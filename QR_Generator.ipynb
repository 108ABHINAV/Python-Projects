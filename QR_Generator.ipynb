{
 "cells": [
  {
   "cell_type": "code",
   "execution_count": 2,
   "id": "cadf5dba",
   "metadata": {},
   "outputs": [
    {
     "name": "stdout",
     "output_type": "stream",
     "text": [
      "Requirement already satisfied: qrcode[pil] in c:\\users\\abhinav\\anaconda3\\lib\\site-packages (7.4.2)\n",
      "Requirement already satisfied: typing-extensions in c:\\users\\abhinav\\anaconda3\\lib\\site-packages (from qrcode[pil]) (4.12.2)\n",
      "Requirement already satisfied: pypng in c:\\users\\abhinav\\anaconda3\\lib\\site-packages (from qrcode[pil]) (0.20220715.0)\n",
      "Requirement already satisfied: colorama in c:\\users\\abhinav\\anaconda3\\lib\\site-packages (from qrcode[pil]) (0.4.6)\n",
      "Requirement already satisfied: pillow>=9.1.0 in c:\\users\\abhinav\\anaconda3\\lib\\site-packages (from qrcode[pil]) (10.0.1)\n"
     ]
    }
   ],
   "source": [
    "#installing module qrcode and pillow(pill)\n",
    "!pip install qrcode[pil]"
   ]
  },
  {
   "cell_type": "code",
   "execution_count": null,
   "id": "214a8e29",
   "metadata": {},
   "outputs": [],
   "source": [
    "#importing libaray\n",
    "import qrcode\n",
    "\n",
    "#taking user input\n",
    "data=input('Enter the data to be encoded in the QR code:  ')\n",
    "\n",
    "#specifying QR code setting\n",
    "qr=qrcode.QRCode(version=1,\n",
    "    error_correction=qrcode.constants.ERROR_CORRECT_H,\n",
    "    box_size=10,\n",
    "    border=4\n",
    "    )\n",
    "\n",
    "#adding content to the qr\n",
    "qr.add_data(data)\n",
    "\n",
    "# Generating qr\n",
    "qr.make(fit=True)\n",
    "\n",
    "# Adjusing qr\n",
    "qr_image=qr.make_image(fill_color='black',back_color='white')\n",
    "\n",
    "#Saving generated qr code\n",
    "filename= input(\"Enter the filename to save the QR code (with .png extension): \")\n",
    "qr_image.save(filename)\n",
    "\n",
    "print(f'QR code generated and saved as {filename}')\n"
   ]
  },
  {
   "cell_type": "code",
   "execution_count": null,
   "id": "a9f06c20",
   "metadata": {},
   "outputs": [],
   "source": []
  }
 ],
 "metadata": {
  "kernelspec": {
   "display_name": "Python 3 (ipykernel)",
   "language": "python",
   "name": "python3"
  },
  "language_info": {
   "codemirror_mode": {
    "name": "ipython",
    "version": 3
   },
   "file_extension": ".py",
   "mimetype": "text/x-python",
   "name": "python",
   "nbconvert_exporter": "python",
   "pygments_lexer": "ipython3",
   "version": "3.11.5"
  }
 },
 "nbformat": 4,
 "nbformat_minor": 5
}
