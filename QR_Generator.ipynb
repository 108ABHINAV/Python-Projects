{
 "cells": [
  {
   "cell_type": "code",
   "execution_count": 2,
   "id": "cadf5dba",
   "metadata": {},
   "outputs": [
    {
     "name": "stdout",
     "output_type": "stream",
     "text": [
      "Requirement already satisfied: qrcode[pil] in c:\\users\\abhinav\\anaconda3\\lib\\site-packages (7.4.2)\n",
      "Requirement already satisfied: typing-extensions in c:\\users\\abhinav\\anaconda3\\lib\\site-packages (from qrcode[pil]) (4.12.2)\n",
      "Requirement already satisfied: pypng in c:\\users\\abhinav\\anaconda3\\lib\\site-packages (from qrcode[pil]) (0.20220715.0)\n",
      "Requirement already satisfied: colorama in c:\\users\\abhinav\\anaconda3\\lib\\site-packages (from qrcode[pil]) (0.4.6)\n",
      "Requirement already satisfied: pillow>=9.1.0 in c:\\users\\abhinav\\anaconda3\\lib\\site-packages (from qrcode[pil]) (10.0.1)\n"
     ]
    }
   ],
   "source": [
    "!pip install qrcode[pil]"
   ]
  },
  {
   "cell_type": "code",
   "execution_count": 8,
   "id": "214a8e29",
   "metadata": {},
   "outputs": [
    {
     "name": "stdout",
     "output_type": "stream",
     "text": [
      "Enter the data to be encoded in the QR code:  aaya ni \n",
      "Enter the filename to save the QR code (with .png extension): l.png\n",
      "QR code generated and saved as l.png\n"
     ]
    }
   ],
   "source": [
    "import qrcode\n",
    "\n",
    "data=input('Enter the data to be encoded in the QR code:  ')\n",
    "\n",
    "qr=qrcode.QRCode(version=1,\n",
    "    error_correction=qrcode.constants.ERROR_CORRECT_H,\n",
    "    box_size=10,\n",
    "    border=4\n",
    "    )\n",
    "\n",
    "qr.add_data(data)\n",
    "qr.make(fit=True)\n",
    "\n",
    "qr_image=qr.make_image(fill_color='black',back_color='white')\n",
    "\n",
    "filename= input(\"Enter the filename to save the QR code (with .png extension): \")\n",
    "qr_image.save(filename)\n",
    "\n",
    "print(f'QR code generated and saved as {filename}')\n"
   ]
  },
  {
   "cell_type": "code",
   "execution_count": null,
   "id": "fcb49a3d",
   "metadata": {},
   "outputs": [],
   "source": [
    "\n",
    "# Create QR code image\n",
    "qr_image = qr.make_image(fill_color=\"blue\", back_color=\"white\")\n",
    "\n",
    "# Save the image\n",
    "filename = input(\"Enter the filename to save the QR code (with .png extension): \")\n",
    "qr_image.save(filename)\n",
    "\n",
    "print(f\"QR Code generated and saved as {filename}\")\n"
   ]
  }
 ],
 "metadata": {
  "kernelspec": {
   "display_name": "Python 3 (ipykernel)",
   "language": "python",
   "name": "python3"
  },
  "language_info": {
   "codemirror_mode": {
    "name": "ipython",
    "version": 3
   },
   "file_extension": ".py",
   "mimetype": "text/x-python",
   "name": "python",
   "nbconvert_exporter": "python",
   "pygments_lexer": "ipython3",
   "version": "3.11.5"
  }
 },
 "nbformat": 4,
 "nbformat_minor": 5
}
